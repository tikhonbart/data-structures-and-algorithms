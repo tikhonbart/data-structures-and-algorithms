{
 "cells": [
  {
   "cell_type": "markdown",
   "id": "fifteen-sailing",
   "metadata": {},
   "source": [
    "# Лабораторная работа №1\n",
    "## Выполнил студент группы ГРУППА ФИО"
   ]
  },
  {
   "cell_type": "markdown",
   "id": "particular-syndicate",
   "metadata": {},
   "source": [
    "### Оглавление\n",
    "1. [Задание 1](#Задание-№1)\n",
    "2. [Задание 2](#Задание-№2)\n",
    "3. [Задание 3](#Задание-№3)\n",
    "4. [Вывод](#Вывод)"
   ]
  },
  {
   "cell_type": "markdown",
   "id": "arctic-stocks",
   "metadata": {},
   "source": [
    "### Задание №1\n",
    "<i> Вызвать функцию print() и передать туда строку Hello, World! </i>"
   ]
  },
  {
   "cell_type": "code",
   "execution_count": 103,
   "id": "caring-truck",
   "metadata": {
    "scrolled": false
   },
   "outputs": [
    {
     "name": "stdout",
     "output_type": "stream",
     "text": [
      "Hello, World!\n"
     ]
    }
   ],
   "source": [
    "print(\"Hello, World!\")"
   ]
  },
  {
   "cell_type": "markdown",
   "id": "maritime-conversation",
   "metadata": {},
   "source": [
    "### Задание №2\n",
    "Написать генератор случайных матриц(многомерных), который принимает\n",
    "опциональные параметры <b>m</b>, <b>n</b>, <b>min_limit</b>, <b>max_limit</b>, где <b>m</b> и <b>n</b> указывают размер\n",
    "матрицы, а <b>min_lim</b> и <b>max_lim</b> - минимальное и максимальное значение для\n",
    "генерируемого числа."
   ]
  },
  {
   "cell_type": "code",
   "execution_count": 129,
   "id": "built-contact",
   "metadata": {},
   "outputs": [],
   "source": [
    "import random\n",
    "import time\n",
    "from copy import *"
   ]
  },
  {
   "cell_type": "code",
   "execution_count": 131,
   "id": "alert-charm",
   "metadata": {
    "scrolled": true
   },
   "outputs": [
    {
     "name": "stdout",
     "output_type": "stream",
     "text": [
      "Введите ширину матрицы: 6\n",
      "Введите длину матрицы: 3\n",
      "Введите минимальный элемент матрицы: 1\n",
      "Введите максимальный элемент матрицы: 10\n",
      "   8   7   8   9   1   9\n",
      "   4   1   1   5   5   3\n",
      "   3   7   9   8   9   7\n"
     ]
    }
   ],
   "source": [
    "#user_m = input()\n",
    "#user_n = input()\n",
    "#user_min_limit = input()\n",
    "#user_max_limit = input()\n",
    "#user_m, user_n, user_min_limit, user_max_limit\n",
    "def printMatrix(matrix: list[list[int]]):\n",
    "    print('\\n'.join([''.join(['{:4}'.format(elem) for elem in row]) for row in matrix]))\n",
    "\n",
    "def createArrey(m: int, n: int, min_limit: int, max_limit: int,):\n",
    "    return [[random.randint(min_limit, max_limit) for y in range(m)] for x in range(n)]\n",
    "user_m = int(input('Введите ширину матрицы: '))\n",
    "user_n = int(input('Введите длину матрицы: '))\n",
    "user_min_limit = int(input(\"Введите минимальный элемент матрицы: \"))\n",
    "user_max_limit = int(input(\"Введите максимальный элемент матрицы: \"))  \n",
    "matrix = createArrey(user_m, user_n, user_min_limit, user_max_limit)\n",
    "printMatrix(matrix)"
   ]
  },
  {
   "cell_type": "markdown",
   "id": "catholic-roots",
   "metadata": {},
   "source": [
    "### Задание №3\n",
    "Реализовать методы сортировки строк числовой матрицы в соответствии с\n",
    "заданием. Оценить время работы каждого алгоритма сортировки и сравнить его со\n",
    "временем стандартной функции сортировки. Испытания проводить на сгенерированных\n",
    "матрицах."
   ]
  },
  {
   "cell_type": "code",
   "execution_count": 132,
   "id": "opposed-creature",
   "metadata": {},
   "outputs": [],
   "source": [
    "import copy"
   ]
  },
  {
   "cell_type": "code",
   "execution_count": 133,
   "id": "cleared-anniversary",
   "metadata": {},
   "outputs": [
    {
     "name": "stdout",
     "output_type": "stream",
     "text": [
      "--- 0.089200 ms ---\n",
      "   1   1   3   4   5   5\n",
      "   1   7   8   8   9   9\n",
      "   3   7   7   8   9   9\n"
     ]
    }
   ],
   "source": [
    "# Сортировка выбором.\n",
    "# Берётся срез массива, в котором минимальный элемент переносят в самый левый угол,\n",
    "# после чего срез уменьшается и цикл повторяется.\n",
    "\n",
    "#TODO\n",
    "def selectionSort(values: list):\n",
    "    for x in range(len(values) - 1):\n",
    "        max_val = values[x]\n",
    "        max_index = x\n",
    "        for y in range(x, len(values)):\n",
    "            if max_val > values[y]:\n",
    "                max_val = values[y]\n",
    "                max_index = y\n",
    "        values[x], values[max_index] = values[max_index], values[x]\n",
    "start_time = time.perf_counter()\n",
    "\n",
    "for row in matrix:\n",
    "    selectionSort(row)\n",
    "        \n",
    "selectionSort(matrix)\n",
    "   \n",
    "\n",
    "print(\"--- {:.6f} ms ---\".format((time.perf_counter() - start_time) * 1000))\n",
    "printMatrix(matrix)"
   ]
  },
  {
   "cell_type": "code",
   "execution_count": 134,
   "id": "roman-silly",
   "metadata": {
    "scrolled": true
   },
   "outputs": [
    {
     "name": "stdout",
     "output_type": "stream",
     "text": [
      "--- 0.078200 ms ---\n",
      "   1   1   3   4   5   5\n",
      "   1   7   8   8   9   9\n",
      "   3   7   7   8   9   9\n"
     ]
    }
   ],
   "source": [
    "# Сортировка вставкой.\n",
    "\n",
    "#TODO\n",
    "matrix = deepcopy(matrix)\n",
    "\n",
    "def insertionSort(values: list):\n",
    "    for i in range(len(values)):\n",
    "        buffer = values[i]\n",
    "        j = i - 1\n",
    "        while buffer < values[j] and j >= 0:\n",
    "            values[j + 1] = values[j]\n",
    "            j -= 1\n",
    "        values[j + 1] = buffer\n",
    "\n",
    "start_time = time.perf_counter()\n",
    "\n",
    "for row in matrix:\n",
    "    insertionSort(row)\n",
    "    \n",
    "insertionSort(matrix)\n",
    "\n",
    "print(\"--- {:.6f} ms ---\".format((time.perf_counter() - start_time) * 1000))\n",
    "printMatrix(matrix)"
   ]
  },
  {
   "cell_type": "code",
   "execution_count": 135,
   "id": "vital-implementation",
   "metadata": {},
   "outputs": [
    {
     "name": "stdout",
     "output_type": "stream",
     "text": [
      "--- 0.070500 ms ---\n",
      "   1   1   3   4   5   5\n",
      "   1   7   8   8   9   9\n",
      "   3   7   7   8   9   9\n"
     ]
    }
   ],
   "source": [
    "# Сортировка обменом. || Сортировка пузырьком.\n",
    "matrix = deepcopy(matrix)\n",
    "\n",
    "def bubbleSort(values: list):\n",
    "    for i in range(len(values) - 1):\n",
    "        for j in range(len(values) - 1 - i):\n",
    "            if values[j] > values[j + 1]:\n",
    "                values[j], values[j + 1] = values[j + 1], values[j]\n",
    "\n",
    "start_time = time.perf_counter()\n",
    "                \n",
    "for row in matrix:\n",
    "    bubbleSort(row)\n",
    "    \n",
    "bubbleSort(matrix)\n",
    "\n",
    "print(\"--- {:.6f} ms ---\".format((time.perf_counter() - start_time) * 1000))\n",
    "printMatrix(matrix)"
   ]
  },
  {
   "cell_type": "code",
   "execution_count": 136,
   "id": "veterinary-glory",
   "metadata": {},
   "outputs": [
    {
     "name": "stdout",
     "output_type": "stream",
     "text": [
      "--- 0.067800 ms ---\n",
      "   1   1   3   4   5   5\n",
      "   1   7   8   8   9   9\n",
      "   3   7   7   8   9   9\n"
     ]
    }
   ],
   "source": [
    "# Сортировка Шелла.\n",
    "matrix = deepcopy(matrix)\n",
    "\n",
    "def shell(values: list):\n",
    "    step = len(values) >> 1\n",
    "    while step > 0:\n",
    "        for i in range(step, len(values)):\n",
    "            buffer = values[i]\n",
    "            j = i - step\n",
    "            while buffer < values[j] and j >= 0:\n",
    "                values[j + step] = values[j]\n",
    "                j -= step\n",
    "            values[j + step] = buffer\n",
    "        step = step >> 1\n",
    "\n",
    "start_time = time.perf_counter()\n",
    "\n",
    "for row in matrix:\n",
    "    shell(row)\n",
    "    \n",
    "shell(matrix)\n",
    "\n",
    "print(\"--- {:.6f} ms ---\".format((time.perf_counter() - start_time) * 1000))\n",
    "printMatrix(matrix)"
   ]
  },
  {
   "cell_type": "code",
   "execution_count": 137,
   "id": "correct-chaos",
   "metadata": {},
   "outputs": [
    {
     "name": "stdout",
     "output_type": "stream",
     "text": [
      "--- 0.112300 ms ---\n",
      "   1   1   3   4   5   5\n",
      "   1   7   8   8   9   9\n",
      "   3   7   7   8   9   9\n"
     ]
    }
   ],
   "source": [
    "# Быстрая сортировка.\n",
    "matrix = deepcopy(matrix)\n",
    "\n",
    "def fastSort(m):\n",
    "    if len(m) <= 1:\n",
    "        return m\n",
    "    else:\n",
    "        x = m[len(m)//2]\n",
    "        y = []\n",
    "        z = []\n",
    "        b = []\n",
    "        for i in m:\n",
    "            if i < x:\n",
    "                y.append(i)\n",
    "            elif i > x:\n",
    "                z.append(i)\n",
    "            else:\n",
    "                b.append(i)\n",
    "        return fastSort(y) + b + fastSort(z)\n",
    "        \n",
    "\n",
    "start_time = time.perf_counter()        \n",
    "\n",
    "for i in range(len(matrix)):\n",
    "    matrix[i] = fastSort(matrix[i])\n",
    "    \n",
    "matrix = fastSort(matrix)\n",
    "    \n",
    "print(\"--- {:.6f} ms ---\".format((time.perf_counter() - start_time) * 1000))\n",
    "printMatrix(matrix)   "
   ]
  },
  {
   "cell_type": "code",
   "execution_count": 138,
   "id": "french-czech",
   "metadata": {},
   "outputs": [
    {
     "name": "stdout",
     "output_type": "stream",
     "text": [
      "--- 0.071900 ms ---\n",
      "   1   1   3   4   5   5\n",
      "   1   7   8   8   9   9\n",
      "   3   7   7   8   9   9\n"
     ]
    }
   ],
   "source": [
    "# Турнирная сортировка.\n",
    "from heapq import *\n",
    "matrix = copy.copy(matrix)\n",
    "\n",
    "def tournamentSort(m):\n",
    "    h = []\n",
    "    for i in m:\n",
    "        heappush(h, i)\n",
    "    for i in range(len(m)):\n",
    "        m[i] = heappop(h)\n",
    "\n",
    "start_time = time.perf_counter()  \n",
    "#TODO\n",
    "\n",
    "for i in range(len(matrix)):\n",
    "    tournamentSort(matrix[i])\n",
    "    \n",
    "tournamentSort(matrix)\n",
    "\n",
    "print(\"--- {:.6f} ms ---\".format((time.perf_counter() - start_time) * 1000))\n",
    "printMatrix(matrix)"
   ]
  },
  {
   "cell_type": "markdown",
   "id": "rental-jerusalem",
   "metadata": {},
   "source": [
    "### Вывод\n"
   ]
  },
  {
   "cell_type": "code",
   "execution_count": null,
   "id": "19e7f6a9",
   "metadata": {},
   "outputs": [],
   "source": []
  }
 ],
 "metadata": {
  "kernelspec": {
   "display_name": "Python 3 (ipykernel)",
   "language": "python",
   "name": "python3"
  },
  "language_info": {
   "codemirror_mode": {
    "name": "ipython",
    "version": 3
   },
   "file_extension": ".py",
   "mimetype": "text/x-python",
   "name": "python",
   "nbconvert_exporter": "python",
   "pygments_lexer": "ipython3",
   "version": "3.9.7"
  }
 },
 "nbformat": 4,
 "nbformat_minor": 5
}
