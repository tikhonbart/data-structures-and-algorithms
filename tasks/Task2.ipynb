{
 "cells": [
  {
   "cell_type": "markdown",
   "id": "arctic-stocks",
   "metadata": {},
   "source": [
    "### Задание №1\n",
    "Массив A состоит из целых положительных чисел длин отрезков. Составьте из трех отрезков такой треугольник, чтобы его периметр был максимально возможным. Если невозможно составить треугольник с положительной площадью функция возвращает 0."
   ]
  },
  {
   "cell_type": "code",
   "execution_count": 1,
   "id": "caring-truck",
   "metadata": {
    "scrolled": false
   },
   "outputs": [
    {
     "data": {
      "text/plain": [
       "14"
      ]
     },
     "execution_count": 1,
     "metadata": {},
     "output_type": "execute_result"
    }
   ],
   "source": [
    "def triangle(arr):\n",
    "    arr.sort(reverse=True)\n",
    "    for i in range(0, len(arr) - 2):\n",
    "        if (arr[i] < arr[i+1] + arr[i+2]):\n",
    "            return arr[i] + arr[i+1] + arr[i+2]\n",
    "    return 0\n",
    "\n",
    "triangle([6, 5, 2, 3, 1])"
   ]
  },
  {
   "cell_type": "markdown",
   "id": "maritime-conversation",
   "metadata": {},
   "source": [
    "### Задание №2\n",
    "Дан массив неотрицательных целых чисел nums. Расположите их в таком порядке, чтобы вместе они образовали максимально возможное число. Замечание: Результат может быть очень большим числом, поэтому представьте его как string, а не integer."
   ]
  },
  {
   "cell_type": "code",
   "execution_count": 8,
   "id": "alert-charm",
   "metadata": {
    "scrolled": false
   },
   "outputs": [
    {
     "name": "stdout",
     "output_type": "stream",
     "text": [
      "Отсортированный массив\n",
      "['95', '9321', '56', '40', '3', '1123', '0']\n",
      "Результат\n",
      "9593215640311230\n"
     ]
    }
   ],
   "source": [
    "class Comparator(str):\n",
    "    def __lt__(self, other):\n",
    "        return int(other+self) > int(self+other)\n",
    "    \n",
    "def biggest(nums, iter = 0):\n",
    "    nums = [str(item) for item in nums]\n",
    "    nums.sort(reverse=True,key=Comparator)\n",
    "    print('Отсортированный массив')\n",
    "    print(nums)\n",
    "    print('Результат')\n",
    "    print(''.join(nums))\n",
    "    \n",
    "biggest([1123,95,3,0,40,56,9321])"
   ]
  },
  {
   "cell_type": "markdown",
   "id": "catholic-roots",
   "metadata": {},
   "source": [
    "### Задание №3\n",
    "Дана матрица mat размером m * n, значения целочисленные. Напишите функцию, сортирующую каждую диагональ матрицы по возрастанию и возвращающую получившуюся матрицу."
   ]
  },
  {
   "cell_type": "code",
   "execution_count": 7,
   "id": "cleared-anniversary",
   "metadata": {
    "scrolled": false
   },
   "outputs": [
    {
     "name": "stdout",
     "output_type": "stream",
     "text": [
      "6\n",
      "8\n",
      "Исходная матрица\n",
      "   1   2   8   0   3   6\n",
      "   8   6   8   3   3   7\n",
      "   3   8   4   9   3   1\n",
      "   7   5   9   1   2   7\n",
      "   2   3   0   8   0   3\n",
      "   0   8   1   3   8   2\n",
      "   7   6   9   2   2   9\n",
      "   0   3   5   0   6   1\n",
      "отсортированная матрица\n",
      "   0   2   8   0   3   6\n",
      "   8   1   8   3   3   7\n",
      "   3   8   1   9   3   8\n",
      "   7   5   9   2   6   7\n",
      "   2   3   0   2   4   3\n",
      "   0   8   1   3   8   6\n",
      "   7   1   9   2   2   9\n",
      "   0   3   5   0   6   1\n"
     ]
    }
   ],
   "source": [
    "import random as rn\n",
    "def printMatr(matrix):\n",
    "    print('\\n'.join([''.join(['{:4}'.format(item) for item in row]) for row in matrix]))\n",
    "    \n",
    "def diagonals(matr):\n",
    "    height = len(matr) - 1\n",
    "    width = len(matr[0]) - 1\n",
    "    diagLen = min(width, height) + 1\n",
    "    for _ in range(diagLen):\n",
    "        for i in range(0, diagLen - 1):\n",
    "            if (matr[i][i] > matr[i+1][i+1]):\n",
    "                matr[i][i], matr[i+1][i+1] = matr[i+1][i+1], matr[i][i]\n",
    "            if (matr[height-i][i] > matr[height-i-1][i+1]):\n",
    "                matr[height-i][i], matr[height-i-1][i+1] = matr[height-i-1][i+1], matr[height-i][i]  \n",
    "    printMatr(matr)\n",
    "    \n",
    "m = int(input())\n",
    "n = int(input())\n",
    "matr = [[rn.randint(0,9) for j in range(0,m)] for i in range(0,n)]\n",
    "print(\"Исходная матрица\")\n",
    "printMatr(matr)\n",
    "print(\"отсортированная матрица\")\n",
    "diagonals(matr)"
   ]
  },
  {
   "cell_type": "code",
   "execution_count": null,
   "id": "fb02f9de",
   "metadata": {},
   "outputs": [],
   "source": []
  }
 ],
 "metadata": {
  "kernelspec": {
   "display_name": "Python 3 (ipykernel)",
   "language": "python",
   "name": "python3"
  },
  "language_info": {
   "codemirror_mode": {
    "name": "ipython",
    "version": 3
   },
   "file_extension": ".py",
   "mimetype": "text/x-python",
   "name": "python",
   "nbconvert_exporter": "python",
   "pygments_lexer": "ipython3",
   "version": "3.9.7"
  }
 },
 "nbformat": 4,
 "nbformat_minor": 5
}
