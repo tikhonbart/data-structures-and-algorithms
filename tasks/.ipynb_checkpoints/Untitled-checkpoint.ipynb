{
 "cells": [
  {
   "cell_type": "raw",
   "id": "c5a03cce",
   "metadata": {},
   "source": [
    "# Массив A состоит из целых положительных чисел длин отрезков. Составьте из трех отрезков такой треугольник, чтобы его периметр был максимально возможным. Если невозможно составить треугольник с положительной площадьюфункция возвращает 0."
   ]
  },
  {
   "cell_type": "code",
   "execution_count": 17,
   "id": "6f307846",
   "metadata": {},
   "outputs": [
    {
     "data": {
      "text/plain": [
       "14"
      ]
     },
     "execution_count": 17,
     "metadata": {},
     "output_type": "execute_result"
    }
   ],
   "source": [
    "def triangle(arr):\n",
    "    arr.sort(reverse=True)\n",
    "    for i in range(0, len(arr) - 2):\n",
    "        if (arr[i] < arr[i+1] + arr[i+2]):\n",
    "            return arr[i] + arr[i+1] + arr[i+2]\n",
    "    return 0\n",
    "\n",
    "\n",
    "triangle([6, 5, 2, 3, 1])"
   ]
  },
  {
   "cell_type": "raw",
   "id": "6aafc34e",
   "metadata": {},
   "source": [
    "Дан массив неотрицательных целых чисел nums. Расположите их в таком порядке, чтобы вместе они образовали максимально возможное число. Замечание: Результат может быть очень большим числом, поэтому представьте его как string, а не integer.\n",
    "Используется класс-сравниватель, возвращающий true, если прямая комбинация (\"1\"+\"2\"=\"12\") больше чем обратная (\"2\"+\"1\"=\"21\"), в противном случае возвращается false"
   ]
  },
  {
   "cell_type": "code",
   "execution_count": 14,
   "id": "c3c15093",
   "metadata": {},
   "outputs": [
    {
     "name": "stdout",
     "output_type": "stream",
     "text": [
      "Отсортированный массив\n",
      "['9', '9321', '5', '4', '3', '123123', '0']\n",
      "Результат\n",
      "993215431231230\n"
     ]
    }
   ],
   "source": [
    "class Comparator(str):\n",
    "    def __lt__(self, other):\n",
    "        return int(other+self) > int(self+other)\n",
    "    \n",
    "def biggest(nums, iter = 0):\n",
    "    nums = [str(item) for item in nums]\n",
    "    nums.sort(reverse=True,key=Comparator)\n",
    "    print('Отсортированный массив')\n",
    "    print(nums)\n",
    "    print('Результат')\n",
    "    print(''.join(nums))\n",
    "    \n",
    "biggest([123123,9,3,0,4,5,9321])"
   ]
  },
  {
   "cell_type": "raw",
   "id": "1e45a566",
   "metadata": {},
   "source": [
    "Дана матрица mat размером m * n, значения целочисленные. Напишите функцию, сортирующую каждую диагональ матрицы по возрастанию и возвращающую получившуюся матрицу.\n",
    "Функция для вывода матрицы"
   ]
  },
  {
   "cell_type": "code",
   "execution_count": 15,
   "id": "0e17073b",
   "metadata": {},
   "outputs": [],
   "source": [
    "import random as rn\n",
    "def printMatr(matrix):\n",
    "    print('\\n'.join([''.join(['{:4}'.format(item) for item in row]) for row in matrix]))"
   ]
  },
  {
   "cell_type": "code",
   "execution_count": 16,
   "id": "03387880",
   "metadata": {},
   "outputs": [],
   "source": [
    "def diagonals(matr):\n",
    "    height = len(matr) - 1\n",
    "    width = len(matr[0]) - 1\n",
    "    diagLen = min(width, height) + 1\n",
    "    for _ in range(diagLen):\n",
    "        for i in range(0, diagLen - 1):\n",
    "            if (matr[i][i] > matr[i+1][i+1]):\n",
    "                matr[i][i], matr[i+1][i+1] = matr[i+1][i+1], matr[i][i]\n",
    "            if (matr[height-i][i] > matr[height-i-1][i+1]):\n",
    "                matr[height-i][i], matr[height-i-1][i+1] = matr[height-i-1][i+1], matr[height-i][i]  \n",
    "    printMatr(matr)"
   ]
  },
  {
   "cell_type": "code",
   "execution_count": 5,
   "id": "2205b12e",
   "metadata": {},
   "outputs": [
    {
     "name": "stdout",
     "output_type": "stream",
     "text": [
      "4\n",
      "5\n",
      "--Исходная матрица--\n",
      "  28   3  40   4\n",
      "   5  26  50  17\n",
      "   8   7  36   7\n",
      "  11  37  24  14\n",
      "  27  22  27  17\n",
      "--Результирующая матрица--\n",
      "  14   3  40   4\n",
      "   5  17  50  36\n",
      "   8   7  28   7\n",
      "  11  27  24  37\n",
      "  26  22  27  17\n"
     ]
    }
   ],
   "source": [
    "m = int(input())\n",
    "n = int(input())\n",
    "matr = [[rn.randint(1,50) for j in range(0,m)] for i in range(0,n)]\n",
    "print(\"Исходная матрица\")\n",
    "printMatr(matr)\n",
    "print(\"Результирующая матрица\")\n",
    "diagonals(matr)"
   ]
  },
  {
   "cell_type": "code",
   "execution_count": null,
   "id": "ab6ad564",
   "metadata": {},
   "outputs": [],
   "source": []
  }
 ],
 "metadata": {
  "kernelspec": {
   "display_name": "Python 3 (ipykernel)",
   "language": "python",
   "name": "python3"
  },
  "language_info": {
   "codemirror_mode": {
    "name": "ipython",
    "version": 3
   },
   "file_extension": ".py",
   "mimetype": "text/x-python",
   "name": "python",
   "nbconvert_exporter": "python",
   "pygments_lexer": "ipython3",
   "version": "3.9.7"
  }
 },
 "nbformat": 4,
 "nbformat_minor": 5
}
